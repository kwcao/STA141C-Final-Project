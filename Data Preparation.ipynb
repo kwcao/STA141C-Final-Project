{
 "cells": [
  {
   "cell_type": "markdown",
   "metadata": {},
   "source": [
    "# Data Preparation "
   ]
  },
  {
   "cell_type": "code",
   "execution_count": 191,
   "metadata": {},
   "outputs": [],
   "source": [
    "# load packages\n",
    "\n",
    "import numpy as np\n",
    "import pandas as pd\n",
    "import calendar"
   ]
  },
  {
   "cell_type": "code",
   "execution_count": 193,
   "metadata": {
    "scrolled": true
   },
   "outputs": [
    {
     "name": "stderr",
     "output_type": "stream",
     "text": [
      "/anaconda3/lib/python3.6/site-packages/IPython/core/interactiveshell.py:2785: DtypeWarning: Columns (21) have mixed types. Specify dtype option on import or set low_memory=False.\n",
      "  interactivity=interactivity, compiler=compiler, result=result)\n"
     ]
    }
   ],
   "source": [
    "# load dataset \n",
    "\n",
    "Chicago_Crimes_2005_to_2007 = pd.read_csv(\"crimes-in-chicago/Chicago_Crimes_2005_to_2007.csv\", usecols = range(23))\n",
    "Chicago_Crimes_2008_to_2011 = pd.read_csv(\"crimes-in-chicago/Chicago_Crimes_2008_to_2011.csv\", usecols = range(23))\n",
    "Chicago_Crimes_2012_to_2017 = pd.read_csv(\"crimes-in-chicago/Chicago_Crimes_2012_to_2017.csv\", usecols = range(23))\n",
    "\n",
    "# merge data \n",
    "Chicago_Crimes_2005_to_2017 = pd.concat([Chicago_Crimes_2005_to_2007, Chicago_Crimes_2008_to_2011, Chicago_Crimes_2012_to_2017])"
   ]
  },
  {
   "cell_type": "code",
   "execution_count": 195,
   "metadata": {},
   "outputs": [
    {
     "name": "stdout",
     "output_type": "stream",
     "text": [
      "[2006 2005 2007 2008 2009 2011 2010 2016 2015 2012 2014 2013 2017]\n",
      "[2007 2008 2009 2011 2010 2016 2015 2012 2014 2013 2017]\n"
     ]
    }
   ],
   "source": [
    "# filter the dataset by years and export data from 2007 to 2017\n",
    "\n",
    "Chicago_Crimes_2005_to_2017.head(20)\n",
    "print(Chicago_Crimes_2005_to_2017.Year.unique())\n",
    "Chicago_Crimes_2007_to_2017 = Chicago_Crimes_2005_to_2017.loc[(Chicago_Crimes_2005_to_2017['Year'] >= 2007) \n",
    "                                                              & (Chicago_Crimes_2005_to_2017['Year'] <= 2017)]\n",
    "print(Chicago_Crimes_2007_to_2017.Year.unique())\n",
    "\n",
    "# store the new DataFrame to a csv file for later use.\n",
    "Chicago_Crimes_2007_to_2017.to_csv(\"Chicago_Crimes_2007_to_2017.csv\",index=False)"
   ]
  },
  {
   "cell_type": "code",
   "execution_count": 196,
   "metadata": {},
   "outputs": [
    {
     "name": "stderr",
     "output_type": "stream",
     "text": [
      "/anaconda3/lib/python3.6/site-packages/IPython/core/interactiveshell.py:2785: DtypeWarning: Columns (21) have mixed types. Specify dtype option on import or set low_memory=False.\n",
      "  interactivity=interactivity, compiler=compiler, result=result)\n"
     ]
    },
    {
     "name": "stdout",
     "output_type": "stream",
     "text": [
      "['Unnamed: 0' 'ID' 'Case Number' 'Date' 'Block' 'IUCR' 'Primary Type'\n",
      " 'Description' 'Location Description' 'Arrest' 'Domestic' 'Beat'\n",
      " 'District' 'Ward' 'Community Area' 'FBI Code' 'X Coordinate'\n",
      " 'Y Coordinate' 'Year' 'Updated On' 'Latitude' 'Longitude' 'Location']\n",
      "ID                        int64\n",
      "Case Number              object\n",
      "Date                     object\n",
      "Block                    object\n",
      "IUCR                     object\n",
      "Primary Type             object\n",
      "Description              object\n",
      "Location Description     object\n",
      "Arrest                     bool\n",
      "Domestic                   bool\n",
      "Beat                      int64\n",
      "District                float64\n",
      "Ward                    float64\n",
      "Community Area          float64\n",
      "FBI Code                 object\n",
      "X Coordinate            float64\n",
      "Y Coordinate            float64\n",
      "Year                      int64\n",
      "Updated On               object\n",
      "Latitude                float64\n",
      "Longitude                object\n",
      "Location                 object\n",
      "dtype: object\n",
      "(4767274, 22)\n"
     ]
    }
   ],
   "source": [
    "# load data from 2007 to 2017\n",
    "df = pd.read_csv(\"Chicago_Crimes_2007_to_2017.csv\")\n",
    "\n",
    "# check for features \n",
    "print(df.columns.values)\n",
    "\n",
    "# drop unnecessary features, col 0\n",
    "df.drop(df.columns[0], axis = 1, inplace = True)\n",
    "print(df.dtypes)\n",
    "print(df.shape) # (4767274, 22), 22 features \n",
    "\n",
    "# removing unneeded features\n",
    "df.drop(['Block', 'X Coordinate', 'Y Coordinate', 'Updated On', 'Latitude', 'Longitude', 'Location'], axis = 1, inplace = True)"
   ]
  },
  {
   "cell_type": "code",
   "execution_count": 198,
   "metadata": {},
   "outputs": [
    {
     "data": {
      "text/plain": [
       "False"
      ]
     },
     "execution_count": 198,
     "metadata": {},
     "output_type": "execute_result"
    }
   ],
   "source": [
    "# check uniqueness of ID\n",
    "df['ID'].is_unique #no unique, cases being recorded multiple times "
   ]
  },
  {
   "cell_type": "code",
   "execution_count": 199,
   "metadata": {},
   "outputs": [
    {
     "name": "stdout",
     "output_type": "stream",
     "text": [
      "3434853\n",
      "(3434853, 15)\n"
     ]
    }
   ],
   "source": [
    "# return only one record per case by removing duplicated rows \n",
    "# ex: df[df['ID'] == 7781132]; 7815319, 7781132, 6023200  \n",
    "\n",
    "print(len(df.ID.unique())) #3434853, but we have 4767274 rows \n",
    "df.drop_duplicates(keep = 'first', inplace = True) #remove duplicates \n",
    "\n",
    "# drop Case number, we are using ID as the primary key\n",
    "df.drop(['Case Number'], axis = 1, inplace = True)\n",
    "df.reset_index(inplace = True)\n",
    "\n",
    "print(df.shape) #(3434853, 15) #matched "
   ]
  },
  {
   "cell_type": "code",
   "execution_count": 201,
   "metadata": {},
   "outputs": [
    {
     "data": {
      "text/plain": [
       "index                   False\n",
       "ID                      False\n",
       "Date                    False\n",
       "IUCR                    False\n",
       "Primary Type            False\n",
       "Description             False\n",
       "Location Description     True\n",
       "Arrest                  False\n",
       "Domestic                False\n",
       "Beat                    False\n",
       "District                 True\n",
       "Ward                     True\n",
       "Community Area           True\n",
       "FBI Code                False\n",
       "Year                    False\n",
       "dtype: bool"
      ]
     },
     "execution_count": 201,
     "metadata": {},
     "output_type": "execute_result"
    }
   ],
   "source": [
    "# check for missing values\n",
    "\n",
    "df.isna().any() # Location Description, District, Ward, Community Area"
   ]
  },
  {
   "cell_type": "code",
   "execution_count": 202,
   "metadata": {},
   "outputs": [],
   "source": [
    "# Replace null values with 'Other' option; categorical \n",
    "df['Location Description'].value_counts() # 154 types + other\n",
    "df['Location Description'].isna().sum() # 1933 null values \n",
    "df['Location Description'].fillna(\"Other\", inplace = True)\n",
    "\n",
    "# Numerical missing values \n",
    "df['District'].value_counts() # 25districts + nan\n",
    "df['District'].isna().sum() # 43 nan\n",
    "\n",
    "df['Ward'].value_counts() # 50 + nan\n",
    "df['Ward'].isna().sum() # 56 nan\n",
    "\n",
    "df['Community Area'].value_counts() # 78 + nan\n",
    "df['Community Area'].isna().sum() # 926 nan\n",
    "\n",
    "# drop columns Ward and Community Area\n",
    "df.drop(['Ward', 'Community Area'], axis = 1, inplace = True)\n",
    "\n",
    "# get all the missing data for District \n",
    "na = df[df['District'].isna()]\n",
    "na = na[['Beat', 'District', 'Year']]\n",
    "\n",
    "# fill in missing data based on the same beat# and year\n",
    "for row in na.itertuples():\n",
    "    district = df[(df['Beat'] == row.Beat) &\n",
    "             (df['Year'] == row.Year)]['District'].unique()[0]\n",
    "    df.iloc[row.Index, df.columns.get_loc('District')] = district\n"
   ]
  },
  {
   "cell_type": "code",
   "execution_count": 204,
   "metadata": {},
   "outputs": [],
   "source": [
    "# separate Date column into two col: date and time \n",
    "\n",
    "df.Date.head(10)\n",
    "datetime = pd.to_datetime(df.Date, errors='coerce')\n",
    "\n",
    "df.drop(['Date'], axis = 1, inplace = True)\n",
    "df['Date'] = datetime.dt.date\n",
    "df['Time'] = datetime.dt.time\n",
    "\n",
    "df['Month'] = datetime.dt.month\n",
    "df['Day'] = datetime.dt.day\n",
    "df['DayofWeek'] = datetime.dt.weekday_name\n",
    "\n",
    "# convert month to abbr name \n",
    "df['Month'] = df['Month'].apply(lambda x: calendar.month_abbr[x])\n"
   ]
  },
  {
   "cell_type": "code",
   "execution_count": 205,
   "metadata": {},
   "outputs": [],
   "source": [
    "df.drop(['index'], axis = 1, inplace = True)"
   ]
  },
  {
   "cell_type": "code",
   "execution_count": 206,
   "metadata": {},
   "outputs": [
    {
     "data": {
      "text/plain": [
       "array(['HOMICIDE', 'CRIM SEXUAL ASSAULT', 'ROBBERY', 'BATTERY',\n",
       "       'PUBLIC PEACE VIOLATION', 'RITUALISM', 'ASSAULT', 'STALKING',\n",
       "       'BURGLARY', 'THEFT', 'MOTOR VEHICLE THEFT', 'ARSON',\n",
       "       'HUMAN TRAFFICKING', 'DECEPTIVE PRACTICE', 'GAMBLING',\n",
       "       'CRIMINAL DAMAGE', 'CRIMINAL TRESPASS', 'WEAPONS VIOLATION',\n",
       "       'CONCEALED CARRY LICENSE VIOLATION', 'NON-CRIMINAL',\n",
       "       'PROSTITUTION', 'OBSCENITY', 'PUBLIC INDECENCY',\n",
       "       'OFFENSE INVOLVING CHILDREN', 'SEX OFFENSE', 'OTHER OFFENSE',\n",
       "       'KIDNAPPING', 'NARCOTICS', 'OTHER NARCOTIC VIOLATION',\n",
       "       'LIQUOR LAW VIOLATION', 'CRIMINAL ABORTION',\n",
       "       'INTERFERENCE WITH PUBLIC OFFICER', 'INTIMIDATION',\n",
       "       'OTHER OFFENSE '], dtype=object)"
      ]
     },
     "execution_count": 206,
     "metadata": {},
     "output_type": "execute_result"
    }
   ],
   "source": [
    "iucr = pd.read_csv(\"IUCR.csv\")\n",
    "iucr['PRIMARY DESCRIPTION'].unique()"
   ]
  },
  {
   "cell_type": "code",
   "execution_count": 207,
   "metadata": {},
   "outputs": [
    {
     "data": {
      "text/plain": [
       "array(['OTHER OFFENSE', 'CRIMINAL DAMAGE', 'NARCOTICS', 'BATTERY',\n",
       "       'THEFT', 'CRIMINAL TRESPASS', 'BURGLARY', 'WEAPONS VIOLATION',\n",
       "       'PROSTITUTION', 'DECEPTIVE PRACTICE', 'ASSAULT',\n",
       "       'PUBLIC PEACE VIOLATION', 'ROBBERY', 'MOTOR VEHICLE THEFT',\n",
       "       'ARSON', 'OFFENSE INVOLVING CHILDREN',\n",
       "       'INTERFERENCE WITH PUBLIC OFFICER', 'CRIM SEXUAL ASSAULT',\n",
       "       'SEX OFFENSE', 'KIDNAPPING', 'LIQUOR LAW VIOLATION', 'STALKING',\n",
       "       'GAMBLING', 'OTHER NARCOTIC VIOLATION', 'INTIMIDATION',\n",
       "       'OBSCENITY', 'PUBLIC INDECENCY', 'RITUALISM', 'HOMICIDE',\n",
       "       'NON-CRIMINAL', 'HUMAN TRAFFICKING',\n",
       "       'CONCEALED CARRY LICENSE VIOLATION', 'NON - CRIMINAL',\n",
       "       'NON-CRIMINAL (SUBJECT SPECIFIED)'], dtype=object)"
      ]
     },
     "execution_count": 207,
     "metadata": {},
     "output_type": "execute_result"
    }
   ],
   "source": [
    "df['Primary Type'].unique()"
   ]
  },
  {
   "cell_type": "code",
   "execution_count": 208,
   "metadata": {},
   "outputs": [
    {
     "name": "stdout",
     "output_type": "stream",
     "text": [
      "ID                       False\n",
      "IUCR                     False\n",
      "Primary Type             False\n",
      "Description              False\n",
      "Location Description     False\n",
      "Arrest                   False\n",
      "Domestic                 False\n",
      "Beat                     False\n",
      "District                 False\n",
      "FBI Code                 False\n",
      "Year                     False\n",
      "Time                     False\n",
      "Month                    False\n",
      "Day                      False\n",
      "DayofWeek                False\n",
      "Date                     False\n",
      "PRIMARY DESCRIPTION       True\n",
      "SECONDARY DESCRIPTION     True\n",
      "INDEX CODE                True\n",
      "dtype: bool\n",
      "2004311\n",
      "2004311\n",
      "2004311\n"
     ]
    }
   ],
   "source": [
    "### since there are differences between the type names, resulting in extra categories for the same type \n",
    "### we want to make it the same for later use \n",
    "\n",
    "len(df['IUCR'].unique())#386\n",
    "\n",
    "\n",
    "# merge two dataframes by IUCR\n",
    "newDf = pd.merge(df, iucr, how = 'left', on = 'IUCR')\n",
    "\n",
    "print(newDf.isna().any())\n",
    "print(newDf['PRIMARY DESCRIPTION'].isna().sum())\n",
    "print(newDf['SECONDARY DESCRIPTION'].isna().sum())\n",
    "print(newDf['INDEX CODE'].isna().sum())"
   ]
  },
  {
   "cell_type": "code",
   "execution_count": 210,
   "metadata": {},
   "outputs": [],
   "source": [
    "### there are more iucr# in df than in iucr\n",
    "\n",
    "# fill the new added cols with info from old cols \n",
    "newDf['PRIMARY DESCRIPTION'].fillna(df['Primary Type'], inplace=True)\n",
    "newDf['SECONDARY DESCRIPTION'].fillna(df['Description'], inplace=True)\n",
    "\n",
    "# replace nan in INDEX CODE with U, Unknow\n",
    "newDf['INDEX CODE'].fillna('U', inplace = True)\n",
    "\n",
    "# drop old columns \n",
    "newDf.drop(['Primary Type', 'Description'], axis = 1, inplace = True)\n",
    "\n",
    "# rremove redundancy\n",
    "newDf.loc[newDf['PRIMARY DESCRIPTION'] == 'NON-CRIMINAL (SUBJECT SPECIFIED)','PRIMARY DESCRIPTION'] = 'NON-CRIMINAL'\n",
    "newDf.loc[newDf['PRIMARY DESCRIPTION'] == 'NON - CRIMINAL','PRIMARY DESCRIPTION'] = 'NON-CRIMINAL'\n",
    "newDf.loc[newDf['PRIMARY DESCRIPTION'] == 'OTHER OFFENSE ','PRIMARY DESCRIPTION'] = 'OTHER OFFENSE'"
   ]
  },
  {
   "cell_type": "code",
   "execution_count": 211,
   "metadata": {},
   "outputs": [],
   "source": [
    "# newDf.to_csv(\"cleanedData.csv\",index=False)"
   ]
  },
  {
   "cell_type": "code",
   "execution_count": 212,
   "metadata": {},
   "outputs": [
    {
     "data": {
      "text/plain": [
       "(3434853, 17)"
      ]
     },
     "execution_count": 212,
     "metadata": {},
     "output_type": "execute_result"
    }
   ],
   "source": [
    "newDf.shape"
   ]
  },
  {
   "cell_type": "code",
   "execution_count": 215,
   "metadata": {},
   "outputs": [
    {
     "data": {
      "text/plain": [
       "Jan    11357\n",
       "Name: Month, dtype: int64"
      ]
     },
     "execution_count": 215,
     "metadata": {},
     "output_type": "execute_result"
    }
   ],
   "source": [
    "newDf[newDf['Year'] == 2017]['Month'].value_counts()"
   ]
  },
  {
   "cell_type": "code",
   "execution_count": 217,
   "metadata": {},
   "outputs": [],
   "source": [
    "# there are only records from Jan 2017, therefore remove data from 2017\n",
    "newDf = newDf.loc[(newDf['Year'] >= 2007) & (newDf['Year'] < 2017)]"
   ]
  },
  {
   "cell_type": "code",
   "execution_count": 218,
   "metadata": {},
   "outputs": [
    {
     "data": {
      "text/plain": [
       "(3423496, 17)"
      ]
     },
     "execution_count": 218,
     "metadata": {},
     "output_type": "execute_result"
    }
   ],
   "source": [
    "newDf.shape"
   ]
  },
  {
   "cell_type": "code",
   "execution_count": 220,
   "metadata": {},
   "outputs": [],
   "source": [
    "newDf.to_csv(\"cleanedData.csv\",index=False)"
   ]
  },
  {
   "cell_type": "code",
   "execution_count": null,
   "metadata": {},
   "outputs": [],
   "source": []
  },
  {
   "cell_type": "code",
   "execution_count": null,
   "metadata": {},
   "outputs": [],
   "source": []
  }
 ],
 "metadata": {
  "kernelspec": {
   "display_name": "Python 3",
   "language": "python",
   "name": "python3"
  },
  "language_info": {
   "codemirror_mode": {
    "name": "ipython",
    "version": 3
   },
   "file_extension": ".py",
   "mimetype": "text/x-python",
   "name": "python",
   "nbconvert_exporter": "python",
   "pygments_lexer": "ipython3",
   "version": "3.6.5"
  }
 },
 "nbformat": 4,
 "nbformat_minor": 2
}
